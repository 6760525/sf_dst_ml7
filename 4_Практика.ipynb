{
  "cells": [
    {
      "cell_type": "markdown",
      "metadata": {
        "id": "view-in-github",
        "colab_type": "text"
      },
      "source": [
        "<a href=\"https://colab.research.google.com/github/6760525/sf_dst_ml7/blob/main/4_%D0%9F%D1%80%D0%B0%D0%BA%D1%82%D0%B8%D0%BA%D0%B0.ipynb\" target=\"_parent\"><img src=\"https://colab.research.google.com/assets/colab-badge.svg\" alt=\"Open In Colab\"/></a>"
      ]
    },
    {
      "cell_type": "markdown",
      "id": "AoeSkz4KaANH",
      "metadata": {
        "id": "AoeSkz4KaANH"
      },
      "source": [
        "# 4. Практика"
      ]
    },
    {
      "cell_type": "markdown",
      "id": "10bc1175",
      "metadata": {
        "id": "10bc1175"
      },
      "source": [
        "### Импорт библиотек"
      ]
    },
    {
      "cell_type": "code",
      "source": [
        "!pip install optuna"
      ],
      "metadata": {
        "colab": {
          "base_uri": "https://localhost:8080/"
        },
        "id": "WgJB7exquVy6",
        "outputId": "4bf92373-08bb-453a-9f65-534f88d79ea8"
      },
      "id": "WgJB7exquVy6",
      "execution_count": 1,
      "outputs": [
        {
          "output_type": "stream",
          "name": "stdout",
          "text": [
            "Collecting optuna\n",
            "  Downloading optuna-2.10.0-py3-none-any.whl (308 kB)\n",
            "\u001b[K     |████████████████████████████████| 308 kB 4.1 MB/s \n",
            "\u001b[?25hCollecting alembic\n",
            "  Downloading alembic-1.7.7-py3-none-any.whl (210 kB)\n",
            "\u001b[K     |████████████████████████████████| 210 kB 45.5 MB/s \n",
            "\u001b[?25hCollecting cmaes>=0.8.2\n",
            "  Downloading cmaes-0.8.2-py3-none-any.whl (15 kB)\n",
            "Collecting colorlog\n",
            "  Downloading colorlog-6.6.0-py2.py3-none-any.whl (11 kB)\n",
            "Requirement already satisfied: packaging>=20.0 in /usr/local/lib/python3.7/dist-packages (from optuna) (21.3)\n",
            "Requirement already satisfied: tqdm in /usr/local/lib/python3.7/dist-packages (from optuna) (4.64.0)\n",
            "Collecting cliff\n",
            "  Downloading cliff-3.10.1-py3-none-any.whl (81 kB)\n",
            "\u001b[K     |████████████████████████████████| 81 kB 2.8 MB/s \n",
            "\u001b[?25hRequirement already satisfied: numpy in /usr/local/lib/python3.7/dist-packages (from optuna) (1.21.6)\n",
            "Requirement already satisfied: scipy!=1.4.0 in /usr/local/lib/python3.7/dist-packages (from optuna) (1.4.1)\n",
            "Requirement already satisfied: PyYAML in /usr/local/lib/python3.7/dist-packages (from optuna) (3.13)\n",
            "Requirement already satisfied: sqlalchemy>=1.1.0 in /usr/local/lib/python3.7/dist-packages (from optuna) (1.4.36)\n",
            "Requirement already satisfied: pyparsing!=3.0.5,>=2.0.2 in /usr/local/lib/python3.7/dist-packages (from packaging>=20.0->optuna) (3.0.8)\n",
            "Requirement already satisfied: importlib-metadata in /usr/local/lib/python3.7/dist-packages (from sqlalchemy>=1.1.0->optuna) (4.11.3)\n",
            "Requirement already satisfied: greenlet!=0.4.17 in /usr/local/lib/python3.7/dist-packages (from sqlalchemy>=1.1.0->optuna) (1.1.2)\n",
            "Requirement already satisfied: importlib-resources in /usr/local/lib/python3.7/dist-packages (from alembic->optuna) (5.7.1)\n",
            "Collecting Mako\n",
            "  Downloading Mako-1.2.0-py3-none-any.whl (78 kB)\n",
            "\u001b[K     |████████████████████████████████| 78 kB 4.1 MB/s \n",
            "\u001b[?25hCollecting cmd2>=1.0.0\n",
            "  Downloading cmd2-2.4.1-py3-none-any.whl (146 kB)\n",
            "\u001b[K     |████████████████████████████████| 146 kB 39.1 MB/s \n",
            "\u001b[?25hCollecting stevedore>=2.0.1\n",
            "  Downloading stevedore-3.5.0-py3-none-any.whl (49 kB)\n",
            "\u001b[K     |████████████████████████████████| 49 kB 3.2 MB/s \n",
            "\u001b[?25hCollecting autopage>=0.4.0\n",
            "  Downloading autopage-0.5.0-py3-none-any.whl (29 kB)\n",
            "Requirement already satisfied: PrettyTable>=0.7.2 in /usr/local/lib/python3.7/dist-packages (from cliff->optuna) (3.2.0)\n",
            "Collecting pbr!=2.1.0,>=2.0.0\n",
            "  Downloading pbr-5.9.0-py2.py3-none-any.whl (112 kB)\n",
            "\u001b[K     |████████████████████████████████| 112 kB 34.3 MB/s \n",
            "\u001b[?25hRequirement already satisfied: attrs>=16.3.0 in /usr/local/lib/python3.7/dist-packages (from cmd2>=1.0.0->cliff->optuna) (21.4.0)\n",
            "Requirement already satisfied: wcwidth>=0.1.7 in /usr/local/lib/python3.7/dist-packages (from cmd2>=1.0.0->cliff->optuna) (0.2.5)\n",
            "Requirement already satisfied: typing-extensions in /usr/local/lib/python3.7/dist-packages (from cmd2>=1.0.0->cliff->optuna) (4.2.0)\n",
            "Collecting pyperclip>=1.6\n",
            "  Downloading pyperclip-1.8.2.tar.gz (20 kB)\n",
            "Requirement already satisfied: zipp>=0.5 in /usr/local/lib/python3.7/dist-packages (from importlib-metadata->sqlalchemy>=1.1.0->optuna) (3.8.0)\n",
            "Requirement already satisfied: MarkupSafe>=0.9.2 in /usr/local/lib/python3.7/dist-packages (from Mako->alembic->optuna) (2.0.1)\n",
            "Building wheels for collected packages: pyperclip\n",
            "  Building wheel for pyperclip (setup.py) ... \u001b[?25l\u001b[?25hdone\n",
            "  Created wheel for pyperclip: filename=pyperclip-1.8.2-py3-none-any.whl size=11137 sha256=99e3b10b4a998458c7ff45029917c3f3c8fdf955a8da9bebc9cf2206430c4e66\n",
            "  Stored in directory: /root/.cache/pip/wheels/9f/18/84/8f69f8b08169c7bae2dde6bd7daf0c19fca8c8e500ee620a28\n",
            "Successfully built pyperclip\n",
            "Installing collected packages: pyperclip, pbr, stevedore, Mako, cmd2, autopage, colorlog, cmaes, cliff, alembic, optuna\n",
            "Successfully installed Mako-1.2.0 alembic-1.7.7 autopage-0.5.0 cliff-3.10.1 cmaes-0.8.2 cmd2-2.4.1 colorlog-6.6.0 optuna-2.10.0 pbr-5.9.0 pyperclip-1.8.2 stevedore-3.5.0\n"
          ]
        }
      ]
    },
    {
      "cell_type": "code",
      "execution_count": 37,
      "id": "d8q91-MSaAOG",
      "metadata": {
        "id": "d8q91-MSaAOG"
      },
      "outputs": [],
      "source": [
        "import numpy as np\n",
        "import pandas as pd\n",
        "import optuna\n",
        "import warnings\n",
        "\n",
        "from hyperopt import hp, fmin, tpe, space_eval, Trials, STATUS_OK\n",
        "from sklearn import linear_model\n",
        "from sklearn import metrics\n",
        "from sklearn import ensemble\n",
        "from sklearn.model_selection import train_test_split\n",
        "from sklearn.model_selection import GridSearchCV\n",
        "from sklearn.model_selection import RandomizedSearchCV\n",
        "from sklearn.model_selection import cross_val_score\n",
        "import matplotlib.pyplot as plt\n",
        "import seaborn as sns\n",
        "\n",
        "SEED = 42\n",
        "\n",
        "%matplotlib inline\n",
        "plt.style.use('seaborn')"
      ]
    },
    {
      "cell_type": "markdown",
      "id": "8lbyun1kaAOy",
      "metadata": {
        "id": "8lbyun1kaAOy",
        "jp-MarkdownHeadingCollapsed": true,
        "tags": []
      },
      "source": [
        "### Загрузка данных"
      ]
    },
    {
      "cell_type": "code",
      "execution_count": 3,
      "id": "p770SmlfaAO3",
      "metadata": {
        "colab": {
          "base_uri": "https://localhost:8080/",
          "height": 236
        },
        "id": "p770SmlfaAO3",
        "outputId": "e38adefc-a51b-4747-fd3d-7e6673eaf6c7"
      },
      "outputs": [
        {
          "output_type": "execute_result",
          "data": {
            "text/plain": [
              "   Activity        D1        D2    D3   D4        D5        D6        D7  \\\n",
              "0         1  0.000000  0.497009  0.10  0.0  0.132956  0.678031  0.273166   \n",
              "1         1  0.366667  0.606291  0.05  0.0  0.111209  0.803455  0.106105   \n",
              "2         1  0.033300  0.480124  0.00  0.0  0.209791  0.610350  0.356453   \n",
              "3         1  0.000000  0.538825  0.00  0.5  0.196344  0.724230  0.235606   \n",
              "4         0  0.100000  0.517794  0.00  0.0  0.494734  0.781422  0.154361   \n",
              "\n",
              "         D8        D9  ...  D1767  D1768  D1769  D1770  D1771  D1772  D1773  \\\n",
              "0  0.585445  0.743663  ...      0      0      0      0      0      0      0   \n",
              "1  0.411754  0.836582  ...      1      1      1      1      0      1      0   \n",
              "2  0.517720  0.679051  ...      0      0      0      0      0      0      0   \n",
              "3  0.288764  0.805110  ...      0      0      0      0      0      0      0   \n",
              "4  0.303809  0.812646  ...      0      0      0      0      0      0      0   \n",
              "\n",
              "   D1774  D1775  D1776  \n",
              "0      0      0      0  \n",
              "1      0      1      0  \n",
              "2      0      0      0  \n",
              "3      0      0      0  \n",
              "4      0      0      0  \n",
              "\n",
              "[5 rows x 1777 columns]"
            ],
            "text/html": [
              "\n",
              "  <div id=\"df-39c39fed-82f7-4d5b-a8d7-21afbe7d95fd\">\n",
              "    <div class=\"colab-df-container\">\n",
              "      <div>\n",
              "<style scoped>\n",
              "    .dataframe tbody tr th:only-of-type {\n",
              "        vertical-align: middle;\n",
              "    }\n",
              "\n",
              "    .dataframe tbody tr th {\n",
              "        vertical-align: top;\n",
              "    }\n",
              "\n",
              "    .dataframe thead th {\n",
              "        text-align: right;\n",
              "    }\n",
              "</style>\n",
              "<table border=\"1\" class=\"dataframe\">\n",
              "  <thead>\n",
              "    <tr style=\"text-align: right;\">\n",
              "      <th></th>\n",
              "      <th>Activity</th>\n",
              "      <th>D1</th>\n",
              "      <th>D2</th>\n",
              "      <th>D3</th>\n",
              "      <th>D4</th>\n",
              "      <th>D5</th>\n",
              "      <th>D6</th>\n",
              "      <th>D7</th>\n",
              "      <th>D8</th>\n",
              "      <th>D9</th>\n",
              "      <th>...</th>\n",
              "      <th>D1767</th>\n",
              "      <th>D1768</th>\n",
              "      <th>D1769</th>\n",
              "      <th>D1770</th>\n",
              "      <th>D1771</th>\n",
              "      <th>D1772</th>\n",
              "      <th>D1773</th>\n",
              "      <th>D1774</th>\n",
              "      <th>D1775</th>\n",
              "      <th>D1776</th>\n",
              "    </tr>\n",
              "  </thead>\n",
              "  <tbody>\n",
              "    <tr>\n",
              "      <th>0</th>\n",
              "      <td>1</td>\n",
              "      <td>0.000000</td>\n",
              "      <td>0.497009</td>\n",
              "      <td>0.10</td>\n",
              "      <td>0.0</td>\n",
              "      <td>0.132956</td>\n",
              "      <td>0.678031</td>\n",
              "      <td>0.273166</td>\n",
              "      <td>0.585445</td>\n",
              "      <td>0.743663</td>\n",
              "      <td>...</td>\n",
              "      <td>0</td>\n",
              "      <td>0</td>\n",
              "      <td>0</td>\n",
              "      <td>0</td>\n",
              "      <td>0</td>\n",
              "      <td>0</td>\n",
              "      <td>0</td>\n",
              "      <td>0</td>\n",
              "      <td>0</td>\n",
              "      <td>0</td>\n",
              "    </tr>\n",
              "    <tr>\n",
              "      <th>1</th>\n",
              "      <td>1</td>\n",
              "      <td>0.366667</td>\n",
              "      <td>0.606291</td>\n",
              "      <td>0.05</td>\n",
              "      <td>0.0</td>\n",
              "      <td>0.111209</td>\n",
              "      <td>0.803455</td>\n",
              "      <td>0.106105</td>\n",
              "      <td>0.411754</td>\n",
              "      <td>0.836582</td>\n",
              "      <td>...</td>\n",
              "      <td>1</td>\n",
              "      <td>1</td>\n",
              "      <td>1</td>\n",
              "      <td>1</td>\n",
              "      <td>0</td>\n",
              "      <td>1</td>\n",
              "      <td>0</td>\n",
              "      <td>0</td>\n",
              "      <td>1</td>\n",
              "      <td>0</td>\n",
              "    </tr>\n",
              "    <tr>\n",
              "      <th>2</th>\n",
              "      <td>1</td>\n",
              "      <td>0.033300</td>\n",
              "      <td>0.480124</td>\n",
              "      <td>0.00</td>\n",
              "      <td>0.0</td>\n",
              "      <td>0.209791</td>\n",
              "      <td>0.610350</td>\n",
              "      <td>0.356453</td>\n",
              "      <td>0.517720</td>\n",
              "      <td>0.679051</td>\n",
              "      <td>...</td>\n",
              "      <td>0</td>\n",
              "      <td>0</td>\n",
              "      <td>0</td>\n",
              "      <td>0</td>\n",
              "      <td>0</td>\n",
              "      <td>0</td>\n",
              "      <td>0</td>\n",
              "      <td>0</td>\n",
              "      <td>0</td>\n",
              "      <td>0</td>\n",
              "    </tr>\n",
              "    <tr>\n",
              "      <th>3</th>\n",
              "      <td>1</td>\n",
              "      <td>0.000000</td>\n",
              "      <td>0.538825</td>\n",
              "      <td>0.00</td>\n",
              "      <td>0.5</td>\n",
              "      <td>0.196344</td>\n",
              "      <td>0.724230</td>\n",
              "      <td>0.235606</td>\n",
              "      <td>0.288764</td>\n",
              "      <td>0.805110</td>\n",
              "      <td>...</td>\n",
              "      <td>0</td>\n",
              "      <td>0</td>\n",
              "      <td>0</td>\n",
              "      <td>0</td>\n",
              "      <td>0</td>\n",
              "      <td>0</td>\n",
              "      <td>0</td>\n",
              "      <td>0</td>\n",
              "      <td>0</td>\n",
              "      <td>0</td>\n",
              "    </tr>\n",
              "    <tr>\n",
              "      <th>4</th>\n",
              "      <td>0</td>\n",
              "      <td>0.100000</td>\n",
              "      <td>0.517794</td>\n",
              "      <td>0.00</td>\n",
              "      <td>0.0</td>\n",
              "      <td>0.494734</td>\n",
              "      <td>0.781422</td>\n",
              "      <td>0.154361</td>\n",
              "      <td>0.303809</td>\n",
              "      <td>0.812646</td>\n",
              "      <td>...</td>\n",
              "      <td>0</td>\n",
              "      <td>0</td>\n",
              "      <td>0</td>\n",
              "      <td>0</td>\n",
              "      <td>0</td>\n",
              "      <td>0</td>\n",
              "      <td>0</td>\n",
              "      <td>0</td>\n",
              "      <td>0</td>\n",
              "      <td>0</td>\n",
              "    </tr>\n",
              "  </tbody>\n",
              "</table>\n",
              "<p>5 rows × 1777 columns</p>\n",
              "</div>\n",
              "      <button class=\"colab-df-convert\" onclick=\"convertToInteractive('df-39c39fed-82f7-4d5b-a8d7-21afbe7d95fd')\"\n",
              "              title=\"Convert this dataframe to an interactive table.\"\n",
              "              style=\"display:none;\">\n",
              "        \n",
              "  <svg xmlns=\"http://www.w3.org/2000/svg\" height=\"24px\"viewBox=\"0 0 24 24\"\n",
              "       width=\"24px\">\n",
              "    <path d=\"M0 0h24v24H0V0z\" fill=\"none\"/>\n",
              "    <path d=\"M18.56 5.44l.94 2.06.94-2.06 2.06-.94-2.06-.94-.94-2.06-.94 2.06-2.06.94zm-11 1L8.5 8.5l.94-2.06 2.06-.94-2.06-.94L8.5 2.5l-.94 2.06-2.06.94zm10 10l.94 2.06.94-2.06 2.06-.94-2.06-.94-.94-2.06-.94 2.06-2.06.94z\"/><path d=\"M17.41 7.96l-1.37-1.37c-.4-.4-.92-.59-1.43-.59-.52 0-1.04.2-1.43.59L10.3 9.45l-7.72 7.72c-.78.78-.78 2.05 0 2.83L4 21.41c.39.39.9.59 1.41.59.51 0 1.02-.2 1.41-.59l7.78-7.78 2.81-2.81c.8-.78.8-2.07 0-2.86zM5.41 20L4 18.59l7.72-7.72 1.47 1.35L5.41 20z\"/>\n",
              "  </svg>\n",
              "      </button>\n",
              "      \n",
              "  <style>\n",
              "    .colab-df-container {\n",
              "      display:flex;\n",
              "      flex-wrap:wrap;\n",
              "      gap: 12px;\n",
              "    }\n",
              "\n",
              "    .colab-df-convert {\n",
              "      background-color: #E8F0FE;\n",
              "      border: none;\n",
              "      border-radius: 50%;\n",
              "      cursor: pointer;\n",
              "      display: none;\n",
              "      fill: #1967D2;\n",
              "      height: 32px;\n",
              "      padding: 0 0 0 0;\n",
              "      width: 32px;\n",
              "    }\n",
              "\n",
              "    .colab-df-convert:hover {\n",
              "      background-color: #E2EBFA;\n",
              "      box-shadow: 0px 1px 2px rgba(60, 64, 67, 0.3), 0px 1px 3px 1px rgba(60, 64, 67, 0.15);\n",
              "      fill: #174EA6;\n",
              "    }\n",
              "\n",
              "    [theme=dark] .colab-df-convert {\n",
              "      background-color: #3B4455;\n",
              "      fill: #D2E3FC;\n",
              "    }\n",
              "\n",
              "    [theme=dark] .colab-df-convert:hover {\n",
              "      background-color: #434B5C;\n",
              "      box-shadow: 0px 1px 3px 1px rgba(0, 0, 0, 0.15);\n",
              "      filter: drop-shadow(0px 1px 2px rgba(0, 0, 0, 0.3));\n",
              "      fill: #FFFFFF;\n",
              "    }\n",
              "  </style>\n",
              "\n",
              "      <script>\n",
              "        const buttonEl =\n",
              "          document.querySelector('#df-39c39fed-82f7-4d5b-a8d7-21afbe7d95fd button.colab-df-convert');\n",
              "        buttonEl.style.display =\n",
              "          google.colab.kernel.accessAllowed ? 'block' : 'none';\n",
              "\n",
              "        async function convertToInteractive(key) {\n",
              "          const element = document.querySelector('#df-39c39fed-82f7-4d5b-a8d7-21afbe7d95fd');\n",
              "          const dataTable =\n",
              "            await google.colab.kernel.invokeFunction('convertToInteractive',\n",
              "                                                     [key], {});\n",
              "          if (!dataTable) return;\n",
              "\n",
              "          const docLinkHtml = 'Like what you see? Visit the ' +\n",
              "            '<a target=\"_blank\" href=https://colab.research.google.com/notebooks/data_table.ipynb>data table notebook</a>'\n",
              "            + ' to learn more about interactive tables.';\n",
              "          element.innerHTML = '';\n",
              "          dataTable['output_type'] = 'display_data';\n",
              "          await google.colab.output.renderOutput(dataTable, element);\n",
              "          const docLink = document.createElement('div');\n",
              "          docLink.innerHTML = docLinkHtml;\n",
              "          element.appendChild(docLink);\n",
              "        }\n",
              "      </script>\n",
              "    </div>\n",
              "  </div>\n",
              "  "
            ]
          },
          "metadata": {},
          "execution_count": 3
        }
      ],
      "source": [
        "data = pd.read_csv('https://lms.skillfactory.ru/assets/courseware/v1/9f2add5bca59f8c4df927432d605fff3/asset-v1:SkillFactory+DST-3.0+28FEB2021+type@asset+block/_train_sem09__1_.zip')\n",
        "data.head()"
      ]
    },
    {
      "cell_type": "markdown",
      "id": "v50Y0j8DaAQP",
      "metadata": {
        "id": "v50Y0j8DaAQP"
      },
      "source": [
        "Создаем матрицу наблюдений X и вектор ответов y."
      ]
    },
    {
      "cell_type": "code",
      "execution_count": 4,
      "id": "2062b504",
      "metadata": {
        "colab": {
          "base_uri": "https://localhost:8080/"
        },
        "id": "2062b504",
        "outputId": "492fd6bf-a45e-442b-88c2-bc9519a8efab"
      },
      "outputs": [
        {
          "output_type": "stream",
          "name": "stdout",
          "text": [
            "<class 'pandas.core.frame.DataFrame'>\n",
            "RangeIndex: 3751 entries, 0 to 3750\n",
            "Columns: 1777 entries, Activity to D1776\n",
            "dtypes: float64(942), int64(835)\n",
            "memory usage: 50.9 MB\n"
          ]
        }
      ],
      "source": [
        "data.info()"
      ]
    },
    {
      "cell_type": "code",
      "execution_count": 5,
      "id": "c2cc41fa",
      "metadata": {
        "id": "c2cc41fa"
      },
      "outputs": [],
      "source": [
        "X = data.drop(['Activity'], axis=1)\n",
        "y = data['Activity']"
      ]
    },
    {
      "cell_type": "markdown",
      "id": "77c95b40",
      "metadata": {
        "id": "77c95b40"
      },
      "source": [
        "Разделяем выборку на тренировочную и тестовую в соотношении 80/20."
      ]
    },
    {
      "cell_type": "code",
      "execution_count": 6,
      "id": "2aa245f4",
      "metadata": {
        "id": "2aa245f4"
      },
      "outputs": [],
      "source": [
        "X_train, X_test, y_train, y_test = train_test_split(X, y, stratify=y, random_state = 1, test_size = 0.2)"
      ]
    },
    {
      "cell_type": "markdown",
      "id": "Q6PP7ObJp7WG",
      "metadata": {
        "id": "Q6PP7ObJp7WG"
      },
      "source": [
        "## **Модель A.** Логистическая регрессия"
      ]
    },
    {
      "cell_type": "code",
      "execution_count": 7,
      "id": "bf489bf6",
      "metadata": {
        "colab": {
          "base_uri": "https://localhost:8080/"
        },
        "id": "bf489bf6",
        "outputId": "7700d3c2-836f-4eff-c4cf-cceb4016f8d5"
      },
      "outputs": [
        {
          "output_type": "stream",
          "name": "stdout",
          "text": [
            "f1_score на тестовом наборе: 0.79\n"
          ]
        }
      ],
      "source": [
        "warnings.filterwarnings(\"ignore\", category=UserWarning) \n",
        "\n",
        "log_reg = linear_model.LogisticRegression(random_state=SEED, max_iter=50)\n",
        "\n",
        "log_reg.fit(X_train, y_train)\n",
        "y_test_pred = log_reg.predict(X_test)\n",
        "print('f1_score на тестовом наборе: {:.2f}'.format(metrics.f1_score(y_test, y_test_pred)))"
      ]
    },
    {
      "cell_type": "markdown",
      "id": "0897b00b",
      "metadata": {
        "id": "0897b00b"
      },
      "source": [
        "### Метод GridSeachCV"
      ]
    },
    {
      "cell_type": "code",
      "execution_count": 8,
      "id": "a1e5b426",
      "metadata": {
        "colab": {
          "base_uri": "https://localhost:8080/"
        },
        "id": "a1e5b426",
        "outputId": "6f6b4522-2af6-4605-b190-c3b8987683e3"
      },
      "outputs": [
        {
          "output_type": "stream",
          "name": "stdout",
          "text": [
            "CPU times: user 10.6 s, sys: 1.35 s, total: 11.9 s\n",
            "Wall time: 20min 40s\n",
            "f1_score на тестовом наборе: 0.79\n",
            "Наилучшие значения гиперпараметров: {'C': 0.1, 'penalty': 'l2', 'solver': 'lbfgs'}\n",
            "Наилучшая модель:\n",
            "LogisticRegression(C=0.1, max_iter=50, random_state=42)\n",
            "Наилучшее значение точности при кросс-валидаци: 0.76\n"
          ]
        }
      ],
      "source": [
        "param_grid = [{'penalty': ['l2', 'none'],\n",
        "              'solver': ['lbfgs', 'sag', 'newton-cg'],\n",
        "               'C': [0.01, 0.1, 0.3, 0.5, 0.7, 0.9, 1.0]},\n",
        "              \n",
        "              {'penalty': ['l1', 'l2'] ,\n",
        "              'solver': ['liblinear', 'saga'],\n",
        "               'C': [0.01, 0.1, 0.3, 0.5, 0.7, 0.9, 1.0]}]\n",
        "\n",
        "grid_search = GridSearchCV(estimator=log_reg, param_grid=param_grid, cv=5, n_jobs = -1)\n",
        "\n",
        "%time grid_search.fit(X_train, y_train)\n",
        "y_test_pred = grid_search.predict(X_test)\n",
        "print('f1_score на тестовом наборе: {:.2f}'.format(metrics.f1_score(y_test, y_test_pred)))\n",
        "print(\"Наилучшие значения гиперпараметров: {}\".format(grid_search.best_params_))\n",
        "print(\"Наилучшая модель:\\n{}\".format(grid_search.best_estimator_))\n",
        "print(\"Наилучшее значение точности при кросс-валидаци: {:.2f}\".format(grid_search.best_score_))"
      ]
    },
    {
      "cell_type": "markdown",
      "source": [
        "*Значение метрики не изменилось, это значит, что мы не нашли комбинацию внешних параметров лучше, чем заданы по умолчанию.*"
      ],
      "metadata": {
        "id": "qTKgfCjTxWyq"
      },
      "id": "qTKgfCjTxWyq"
    },
    {
      "cell_type": "code",
      "source": [
        "visual = pd.pivot_table(pd.DataFrame(grid_search.cv_results_),\n",
        "                        values='mean_test_score', index='param_C',\n",
        "                        columns='param_solver')\n",
        "sns.heatmap(visual)\n",
        "plt.title('Тепловая карта зависимости метрики accuracy от solver и С')\n",
        "sns.set(rc={'figure.figsize':(12, 8)})"
      ],
      "metadata": {
        "colab": {
          "base_uri": "https://localhost:8080/",
          "height": 378
        },
        "id": "ENC3AoPpyexX",
        "outputId": "e43d07e3-5c9d-47ec-c0dd-894044897e7a"
      },
      "id": "ENC3AoPpyexX",
      "execution_count": 9,
      "outputs": [
        {
          "output_type": "display_data",
          "data": {
            "text/plain": [
              "<Figure size 576x396 with 2 Axes>"
            ],
            "image/png": "[encoded data removed]"
          },
          "metadata": {}
        }
      ]
    },
    {
      "cell_type": "markdown",
      "source": [
        "*Видим, что лучшие результаты показывают алгоритмы liblinear и saga, но слабая регуляризация С = 0,01 отрицательно влияет на метрику, поэтому есть смысл брать значения больше 0.01*"
      ],
      "metadata": {
        "id": "g6Hw2r8kzmNQ"
      },
      "id": "g6Hw2r8kzmNQ"
    },
    {
      "cell_type": "markdown",
      "id": "18dffc0c",
      "metadata": {
        "id": "18dffc0c"
      },
      "source": [
        "### Метод RandomizedSearchCV"
      ]
    },
    {
      "cell_type": "code",
      "execution_count": 64,
      "id": "b86a43c7",
      "metadata": {
        "id": "b86a43c7",
        "outputId": "e7e084ce-9bf9-441b-ebea-cc096c348d2c",
        "colab": {
          "base_uri": "https://localhost:8080/"
        }
      },
      "outputs": [
        {
          "output_type": "stream",
          "name": "stdout",
          "text": [
            "CPU times: user 5.58 s, sys: 88.1 ms, total: 5.66 s\n",
            "Wall time: 1min 29s\n",
            "f1_score на тестовом наборе: 0.78\n",
            "Наилучшие значения гиперпараметров: {'solver': 'saga', 'penalty': 'l1', 'C': 0.2444444444444444}\n"
          ]
        }
      ],
      "source": [
        "params = param_grid = {'penalty': ['l2', 'l1'],\n",
        "                       'solver': ['saga', 'liblinear'],\n",
        "                       'C': list(np.linspace(0.05, 0.30, 10, dtype=float))},\n",
        "\n",
        "\n",
        "random_search = RandomizedSearchCV(estimator=log_reg, param_distributions=params, cv=5, n_iter=10, n_jobs=-1)\n",
        "\n",
        "%time random_search.fit(X_train, y_train)\n",
        "y_test_pred = random_search.predict(X_test)\n",
        "print('f1_score на тестовом наборе: {:.2f}'.format(metrics.f1_score(y_test, y_test_pred)))\n",
        "print(\"Наилучшие значения гиперпараметров: {}\".format(random_search.best_params_))"
      ]
    },
    {
      "cell_type": "markdown",
      "id": "b6e0c112",
      "metadata": {
        "id": "b6e0c112"
      },
      "source": [
        "### Метод Hyperopt"
      ]
    },
    {
      "cell_type": "code",
      "execution_count": 65,
      "id": "bf28c906",
      "metadata": {
        "id": "bf28c906"
      },
      "outputs": [],
      "source": [
        "def hyperopt_lr(params, cv=5, X=X_train, y=y_train, random_state=SEED):\n",
        "    params = {'C' : float(params['C']),\n",
        "              'solver' : params['solver'],\n",
        "              'penalty' : params['penalty'],\n",
        "              'max_iter' : int(params['max_iter'])}\n",
        "\n",
        "    model = linear_model.LogisticRegression(**params, random_state=random_state)\n",
        "\n",
        "    model.fit(X, y)\n",
        "\n",
        "    score = cross_val_score(model, X, y, cv=cv, scoring=\"f1\", n_jobs=-1).mean()\n",
        "\n",
        "    return {'loss': -score, 'status': STATUS_OK}"
      ]
    },
    {
      "cell_type": "code",
      "execution_count": 67,
      "id": "3f99aa27",
      "metadata": {
        "id": "3f99aa27",
        "outputId": "c4aa19d9-264e-46ad-8d71-f651c9fa17fa",
        "colab": {
          "base_uri": "https://localhost:8080/"
        }
      },
      "outputs": [
        {
          "output_type": "stream",
          "name": "stdout",
          "text": [
            "CPU times: user 4 µs, sys: 0 ns, total: 4 µs\n",
            "Wall time: 9.54 µs\n",
            "100%|██████████| 10/10 [02:20<00:00, 14.04s/it, best loss: -0.7842219360244689]\n",
            "Наилучшие значения гиперпараметров {'C': 0.15950729661023083, 'max_iter': 50, 'penalty': 'l1', 'solver': 'liblinear'}\n"
          ]
        }
      ],
      "source": [
        "space = {'C' : hp.uniform('C', 0.05, 0.30),\n",
        "         'solver' : hp.choice('solver', ['saga', 'liblinear']),\n",
        "         'penalty': hp.choice('penalty', ['l1', 'l2']),\n",
        "         'max_iter' : 50}\n",
        "\n",
        "trials=Trials()\n",
        "\n",
        "%time\n",
        "best=fmin(hyperopt_lr,\n",
        "          space=space,\n",
        "          algo=tpe.suggest,\n",
        "          max_evals=10,\n",
        "          trials=trials,\n",
        "          rstate=np.random.RandomState(SEED)\n",
        "         )\n",
        "\n",
        "bp = space_eval(space, best)\n",
        "print(f\"Наилучшие значения гиперпараметров {bp}\")"
      ]
    },
    {
      "cell_type": "code",
      "source": [
        "model = linear_model.LogisticRegression(\n",
        "    random_state=SEED, \n",
        "    solver=bp['solver'],\n",
        "    penalty=bp['penalty'],\n",
        "    C=float(bp['C']),\n",
        "    max_iter=int(bp['max_iter'])\n",
        ")\n",
        "model.fit(X_train, y_train)\n",
        "y_test_pred = model.predict(X_test)\n",
        "print('f1_score на тестовом наборе: {:.2f}'.format(metrics.f1_score(y_test, y_test_pred)))"
      ],
      "metadata": {
        "colab": {
          "base_uri": "https://localhost:8080/"
        },
        "id": "DLp4MrzJ8lQF",
        "outputId": "02f3d026-9d64-4733-d7ba-55146e88ef92"
      },
      "id": "DLp4MrzJ8lQF",
      "execution_count": 68,
      "outputs": [
        {
          "output_type": "stream",
          "name": "stdout",
          "text": [
            "f1_score на тестовом наборе: 0.78\n"
          ]
        }
      ]
    },
    {
      "cell_type": "markdown",
      "id": "9d40234e",
      "metadata": {
        "id": "9d40234e"
      },
      "source": [
        "### Метод Optuna"
      ]
    },
    {
      "cell_type": "code",
      "execution_count": 85,
      "id": "a0266cea",
      "metadata": {
        "id": "a0266cea"
      },
      "outputs": [],
      "source": [
        "def optuna_lr(trial):\n",
        "  penalty=trial.suggest_categorical('penalty', ['l1', 'l2'])\n",
        "  solver=trial.suggest_categorical('solver', ['saga', 'liblinear'])\n",
        "  C=trial.suggest_float('C', 0.01, 0.30, step=0.05)\n",
        "\n",
        "  model = linear_model.LogisticRegression(penalty=penalty,\n",
        "                                          solver=solver,\n",
        "                                          C=C,\n",
        "                                          random_state=SEED)\n",
        "  model.fit(X_train, y_train)\n",
        "  score = metrics.f1_score(y_train, model.predict(X_train))\n",
        "\n",
        "  return score\n",
        "  "
      ]
    },
    {
      "cell_type": "code",
      "execution_count": 86,
      "id": "4d75336e",
      "metadata": {
        "id": "4d75336e",
        "outputId": "85266ede-fd05-4855-fb1d-1fcdc83fd2ff",
        "colab": {
          "base_uri": "https://localhost:8080/"
        }
      },
      "outputs": [
        {
          "output_type": "stream",
          "name": "stdout",
          "text": [
            "CPU times: user 5 µs, sys: 1 µs, total: 6 µs\n",
            "Wall time: 9.3 µs\n",
            "Наилучшие значения гиперпараметров {'penalty': 'l2', 'solver': 'liblinear', 'C': 0.26}\n"
          ]
        }
      ],
      "source": [
        "optuna.logging.set_verbosity(optuna.logging.ERROR)\n",
        "%time\n",
        "study = optuna.create_study(study_name=\"LogisticRegression\", direction=\"maximize\")\n",
        "study.optimize(optuna_lr, n_trials=50)\n",
        "print(f\"Наилучшие значения гиперпараметров {study.best_params}\")"
      ]
    },
    {
      "cell_type": "code",
      "execution_count": 87,
      "id": "e9195569",
      "metadata": {
        "id": "e9195569",
        "outputId": "c399120e-9e21-4ee8-de46-b3c98874e53a",
        "colab": {
          "base_uri": "https://localhost:8080/"
        }
      },
      "outputs": [
        {
          "output_type": "stream",
          "name": "stdout",
          "text": [
            "f1_score на тестовом наборе: 0.79\n"
          ]
        }
      ],
      "source": [
        "model = linear_model.LogisticRegression(**study.best_params, random_state=SEED, )\n",
        "model.fit(X_train, y_train)\n",
        "y_test_pred = model.predict(X_test)\n",
        "print('f1_score на тестовом наборе: {:.2f}'.format(metrics.f1_score(y_test, y_test_pred)))"
      ]
    },
    {
      "cell_type": "markdown",
      "id": "aa9b9d14",
      "metadata": {
        "id": "aa9b9d14"
      },
      "source": [
        "## **Модель B.** Случайный лес"
      ]
    },
    {
      "cell_type": "code",
      "execution_count": 90,
      "metadata": {
        "id": "-hZsgUi_uPpW",
        "outputId": "33012525-5de9-468b-a790-0d0ef6b5e3a3",
        "colab": {
          "base_uri": "https://localhost:8080/"
        }
      },
      "outputs": [
        {
          "output_type": "stream",
          "name": "stdout",
          "text": [
            "f1_score на тестовом наборе: 0.81\n"
          ]
        }
      ],
      "source": [
        "rf = ensemble.RandomForestClassifier(random_state=SEED)\n",
        "\n",
        "rf.fit(X_train, y_train)\n",
        "\n",
        "y_test_pred = rf.predict(X_test)\n",
        "\n",
        "print('f1_score на тестовом наборе: {:.2f}'.format(metrics.f1_score(y_test, y_test_pred)))"
      ],
      "id": "-hZsgUi_uPpW"
    },
    {
      "cell_type": "markdown",
      "metadata": {
        "id": "fW_V5NCkuPpW"
      },
      "source": [
        "### Метод GridSeachCV"
      ],
      "id": "fW_V5NCkuPpW"
    },
    {
      "cell_type": "code",
      "execution_count": 91,
      "metadata": {
        "id": "UpwT0y-VuPpW",
        "outputId": "4346fe7c-cb24-436b-a0ce-9eaca9ca568a",
        "colab": {
          "base_uri": "https://localhost:8080/"
        }
      },
      "outputs": [
        {
          "output_type": "stream",
          "name": "stdout",
          "text": [
            "CPU times: user 6.74 s, sys: 436 ms, total: 7.17 s\n",
            "Wall time: 6min 42s\n",
            "Наилучшие значения гиперпараметров: {'max_depth': 16, 'min_samples_leaf': 7, 'n_estimators': 100}\n",
            "f1_score на тестовом наборе: 0.81\n"
          ]
        }
      ],
      "source": [
        "param_grid = {'n_estimators': list(range(50, 200, 50)),\n",
        "              'min_samples_leaf': [5, 7, 9],\n",
        "              'max_depth': list(np.linspace(10, 40, 10, dtype=int))\n",
        "              }\n",
        "\n",
        "rf_grid_search = GridSearchCV(estimator=rf, param_grid=param_grid, cv=5, n_jobs = -1)\n",
        "\n",
        "%time rf_grid_search.fit(X_train, y_train)\n",
        "y_test_pred = rf_grid_search.predict(X_test)\n",
        "\n",
        "print(\"Наилучшие значения гиперпараметров: {}\".format(rf_grid_search.best_params_))\n",
        "print('f1_score на тестовом наборе: {:.2f}'.format(metrics.f1_score(y_test, y_test_pred)))\n"
      ],
      "id": "UpwT0y-VuPpW"
    },
    {
      "cell_type": "markdown",
      "metadata": {
        "id": "rRxhd-FBuPpX"
      },
      "source": [
        "### Метод RandomizedSearchCV"
      ],
      "id": "rRxhd-FBuPpX"
    },
    {
      "cell_type": "code",
      "execution_count": 92,
      "metadata": {
        "id": "wzkkze0zuPpX",
        "outputId": "01123ee7-790e-461a-801e-d2d3837a8e5f",
        "colab": {
          "base_uri": "https://localhost:8080/"
        }
      },
      "outputs": [
        {
          "output_type": "stream",
          "name": "stdout",
          "text": [
            "CPU times: user 2.5 s, sys: 69.9 ms, total: 2.57 s\n",
            "Wall time: 49.8 s\n",
            "Наилучшие значения гиперпараметров: {'n_estimators': 100, 'min_samples_leaf': 1, 'max_depth': 23}\n",
            "f1_score на тестовом наборе: 0.82\n"
          ]
        }
      ],
      "source": [
        "params = {'n_estimators': list(range(50, 200, 50)),\n",
        "          'min_samples_leaf': list(np.linspace(1, 10, 1, dtype=int)),\n",
        "          'max_depth': list(np.linspace(10, 40, 10, dtype=int))\n",
        "}\n",
        "\n",
        "random_search = RandomizedSearchCV(estimator=rf, param_distributions=params, cv=5, n_iter=10, n_jobs=-1)\n",
        "\n",
        "%time random_search.fit(X_train, y_train)\n",
        "y_test_pred = random_search.predict(X_test)\n",
        "print(\"Наилучшие значения гиперпараметров: {}\".format(random_search.best_params_))\n",
        "print('f1_score на тестовом наборе: {:.2f}'.format(metrics.f1_score(y_test, y_test_pred)))\n"
      ],
      "id": "wzkkze0zuPpX"
    },
    {
      "cell_type": "markdown",
      "metadata": {
        "id": "MHaaL9yXuPpX"
      },
      "source": [
        "### Метод Hyperopt"
      ],
      "id": "MHaaL9yXuPpX"
    },
    {
      "cell_type": "code",
      "execution_count": 93,
      "metadata": {
        "id": "r6PAasfDuPpX"
      },
      "outputs": [],
      "source": [
        "def hyperopt_rf(params, cv=5, X=X_train, y=y_train, random_state=SEED):\n",
        "    params = {'n_estimators': int(params['n_estimators']), \n",
        "              'max_depth': int(params['max_depth']), \n",
        "              'min_samples_leaf': int(params['min_samples_leaf'])}\n",
        "  \n",
        "    model = ensemble.RandomForestClassifier(**params, random_state=random_state)\n",
        "\n",
        "    model.fit(X, y)\n",
        "    score = cross_val_score(model, X, y, cv=cv, scoring=\"f1\", n_jobs=-1).mean()\n",
        "  \n",
        "    return {'loss': -score, 'status': STATUS_OK}"
      ],
      "id": "r6PAasfDuPpX"
    },
    {
      "cell_type": "code",
      "execution_count": 95,
      "metadata": {
        "id": "soeBzSDluPpX",
        "outputId": "51e097e4-47d1-4161-b128-2c03a24688d4",
        "colab": {
          "base_uri": "https://localhost:8080/"
        }
      },
      "outputs": [
        {
          "output_type": "stream",
          "name": "stdout",
          "text": [
            "CPU times: user 4 µs, sys: 0 ns, total: 4 µs\n",
            "Wall time: 10.7 µs\n",
            "100%|██████████| 50/50 [07:09<00:00,  8.59s/it, best loss: -0.8098984122336983]\n",
            "Наилучшие значения гиперпараметров {'max_depth': 22.0, 'min_samples_leaf': 2.0, 'n_estimators': 140.0}\n"
          ]
        }
      ],
      "source": [
        "space={'n_estimators': hp.quniform('n_estimators', 50, 200, 1),\n",
        "       'max_depth' : hp.quniform('max_depth', 1, 40, 1),\n",
        "       'min_samples_leaf': hp.quniform('min_samples_leaf', 2, 10, 1)\n",
        "      }\n",
        "\n",
        "%time\n",
        "best=fmin(hyperopt_rf,\n",
        "          space=space,\n",
        "          algo=tpe.suggest,\n",
        "          max_evals=50,\n",
        "          trials=Trials(),\n",
        "          rstate=np.random.RandomState(SEED)\n",
        "         )\n",
        "\n",
        "bp = space_eval(space, best)\n",
        "print(f\"Наилучшие значения гиперпараметров {bp}\")"
      ],
      "id": "soeBzSDluPpX"
    },
    {
      "cell_type": "code",
      "source": [
        "model = ensemble.RandomForestClassifier(\n",
        "    random_state=SEED,\n",
        "    n_estimators=int(bp['n_estimators']),\n",
        "    max_depth=int(bp['max_depth']),\n",
        "    min_samples_leaf=int(bp['min_samples_leaf'])\n",
        ")\n",
        "model.fit(X_train, y_train)\n",
        "y_test_pred = model.predict(X_test)\n",
        "print('f1_score на тестовом наборе: {:.2f}'.format(metrics.f1_score(y_test, y_test_pred)))"
      ],
      "metadata": {
        "colab": {
          "base_uri": "https://localhost:8080/"
        },
        "id": "FgE-Lo7FV-z0",
        "outputId": "19af0822-c968-4f2c-d76d-a43269511350"
      },
      "id": "FgE-Lo7FV-z0",
      "execution_count": 96,
      "outputs": [
        {
          "output_type": "stream",
          "name": "stdout",
          "text": [
            "f1_score на тестовом наборе: 0.82\n"
          ]
        }
      ]
    },
    {
      "cell_type": "markdown",
      "metadata": {
        "id": "jPDUJ70nuPpX"
      },
      "source": [
        "### Метод Optuna"
      ],
      "id": "jPDUJ70nuPpX"
    },
    {
      "cell_type": "code",
      "execution_count": 102,
      "metadata": {
        "id": "A-QBBGVzuPpX"
      },
      "outputs": [],
      "source": [
        "def optuna_rf(trial):\n",
        "  n_estimators = trial.suggest_int('n_estimators', 50, 200, 1)\n",
        "  max_depth = trial.suggest_int('max_depth', 1, 40, 1)\n",
        "  min_samples_leaf = trial.suggest_int('min_samples_leaf', 2, 10, 1)\n",
        "\n",
        "  model = ensemble.RandomForestClassifier(n_estimators=n_estimators,\n",
        "                                          max_depth=max_depth,\n",
        "                                          min_samples_leaf=min_samples_leaf,\n",
        "                                          random_state=SEED)\n",
        "\n",
        "  model.fit(X_train, y_train)\n",
        "  score = metrics.f1_score(y_train, model.predict(X_train))\n",
        "\n",
        "  return score\n",
        "  "
      ],
      "id": "A-QBBGVzuPpX"
    },
    {
      "cell_type": "code",
      "execution_count": 103,
      "metadata": {
        "id": "TOQqSaPtuPpX",
        "outputId": "802936b4-a43f-4c61-f8db-daff9d5b2d39",
        "colab": {
          "base_uri": "https://localhost:8080/"
        }
      },
      "outputs": [
        {
          "output_type": "stream",
          "name": "stdout",
          "text": [
            "CPU times: user 4 µs, sys: 0 ns, total: 4 µs\n",
            "Wall time: 9.06 µs\n"
          ]
        }
      ],
      "source": [
        "optuna.logging.set_verbosity(optuna.logging.ERROR)\n",
        "%time\n",
        "study = optuna.create_study(study_name=\"RandomForestClassifier\", direction=\"maximize\")\n",
        "study.optimize(optuna_rf, n_trials=50)"
      ],
      "id": "TOQqSaPtuPpX"
    },
    {
      "cell_type": "code",
      "execution_count": 104,
      "metadata": {
        "id": "ROya5J0KuPpX",
        "outputId": "97806888-6486-41ec-8b74-08581fbf8697",
        "colab": {
          "base_uri": "https://localhost:8080/"
        }
      },
      "outputs": [
        {
          "output_type": "stream",
          "name": "stdout",
          "text": [
            "Наилучшие значения гиперпараметров {'n_estimators': 117, 'max_depth': 28, 'min_samples_leaf': 2}\n",
            "f1_score на тестовом наборе: 0.82\n"
          ]
        }
      ],
      "source": [
        "print(\"Наилучшие значения гиперпараметров {}\".format(study.best_params))\n",
        "model = ensemble.RandomForestClassifier(**study.best_params, random_state=SEED, )\n",
        "model.fit(X_train, y_train)\n",
        "y_test_pred = model.predict(X_test)\n",
        "print('f1_score на тестовом наборе: {:.2f}'.format(metrics.f1_score(y_test, y_test_pred)))"
      ],
      "id": "ROya5J0KuPpX"
    },
    {
      "cell_type": "code",
      "source": [
        ""
      ],
      "metadata": {
        "id": "1aif7K5EY7AM"
      },
      "id": "1aif7K5EY7AM",
      "execution_count": null,
      "outputs": []
    }
  ],
  "metadata": {
    "colab": {
      "collapsed_sections": [],
      "name": "4-Практика.ipynb",
      "provenance": [],
      "include_colab_link": true
    },
    "interpreter": {
      "hash": "916dbcbb3f70747c44a77c7bcd40155683ae19c65e1c03b4aa3499c5328201f1"
    },
    "kernelspec": {
      "display_name": "Python 3.8.10 64-bit",
      "language": "python",
      "name": "python3"
    },
    "language_info": {
      "codemirror_mode": {
        "name": "ipython",
        "version": 3
      },
      "file_extension": ".py",
      "mimetype": "text/x-python",
      "name": "python",
      "nbconvert_exporter": "python",
      "pygments_lexer": "ipython3",
      "version": "3.8.10"
    }
  },
  "nbformat": 4,
  "nbformat_minor": 5
}